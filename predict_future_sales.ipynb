{
  "nbformat": 4,
  "nbformat_minor": 0,
  "metadata": {
    "colab": {
      "name": "predict_future_sales.ipynb",
      "provenance": [],
      "authorship_tag": "ABX9TyP1KupIwLjMi+F7WUNRNy0H",
      "include_colab_link": true
    },
    "kernelspec": {
      "name": "python3",
      "display_name": "Python 3"
    }
  },
  "cells": [
    {
      "cell_type": "markdown",
      "metadata": {
        "id": "view-in-github",
        "colab_type": "text"
      },
      "source": [
        "<a href=\"https://colab.research.google.com/github/cmannnn/predict_future_sales/blob/main/predict_future_sales.ipynb\" target=\"_parent\"><img src=\"https://colab.research.google.com/assets/colab-badge.svg\" alt=\"Open In Colab\"/></a>"
      ]
    },
    {
      "cell_type": "markdown",
      "metadata": {
        "id": "U4SoFslGfRpJ"
      },
      "source": [
        "# Predict Future Sales"
      ]
    },
    {
      "cell_type": "markdown",
      "metadata": {
        "id": "DJaaDvndfbOO"
      },
      "source": [
        "You are provided with daily historical sales data. The task is to forecast the total amount of products sold in every shop for the test set. Note that the list of shops and products slightly changes every month. Creating a robust model that can handle such situations is part of the challenge."
      ]
    },
    {
      "cell_type": "markdown",
      "metadata": {
        "id": "j-UxcjnUffCN"
      },
      "source": [
        "# Imports"
      ]
    },
    {
      "cell_type": "code",
      "metadata": {
        "id": "XTSLNlmdd5lX"
      },
      "source": [
        "# imports\n",
        "import os\n",
        "\n",
        "import pandas as pd\n",
        "import matplotlib.pyplot as plt\n",
        "import numpy as np\n",
        "import seaborn as sns\n",
        "\n",
        "#import specific sklearn packages\n",
        "from sklearn.model_selection import train_test_split\n"
      ],
      "execution_count": null,
      "outputs": []
    }
  ]
}